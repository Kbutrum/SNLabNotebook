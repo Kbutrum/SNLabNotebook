{
 "cells": [
  {
   "cell_type": "markdown",
   "id": "bd14e194-1332-4c29-a9d4-bae40f06ec15",
   "metadata": {
    "tags": []
   },
   "source": [
    "# Data Science Tools and Ecosystem"
   ]
  },
  {
   "cell_type": "markdown",
   "id": "80850f2a-46da-4266-bb59-3d3bd644468f",
   "metadata": {},
   "source": [
    "In this notebook, Data Science Tools and Ecosystem are summarized."
   ]
  },
  {
   "cell_type": "markdown",
   "id": "a6cff014-8bf5-4678-8852-a74a0e6342be",
   "metadata": {},
   "source": [
    "**Objectives**\n",
    "\n",
    "- Java\n",
    "- R\n",
    "- Python\n",
    "- SQL"
   ]
  },
  {
   "cell_type": "markdown",
   "id": "20beca53-fb16-4c9c-a12f-0729fdb65a4f",
   "metadata": {},
   "source": [
    "Some of the popular languages that Data Scientists use are:\n",
    "\n",
    "1. Python\n",
    "2. R\n",
    "3. C++"
   ]
  },
  {
   "cell_type": "markdown",
   "id": "13b4792d-081b-4745-ace5-8bd6ca2eacff",
   "metadata": {},
   "source": [
    "Some of the commonly used libraries used by Data Scientists include:\n",
    "\n",
    "1. NumPy\n",
    "2. Pandas\n",
    "3. TensorFlow"
   ]
  },
  {
   "cell_type": "markdown",
   "id": "7d7cfde4-351c-46f9-ac3f-242a517bb202",
   "metadata": {},
   "source": [
    "| Data Science Tools |\n",
    "------\n",
    "| Spark |\n",
    "| Hadoop |\n",
    "| Python |"
   ]
  },
  {
   "cell_type": "markdown",
   "id": "35a2ea75-23c6-435f-941f-28569164c6d6",
   "metadata": {},
   "source": [
    "### Below are a few examples of evaluating arithmetic expressions in Python"
   ]
  },
  {
   "cell_type": "code",
   "execution_count": null,
   "id": "b29b7c15-d950-4d31-afbe-5f81093b376d",
   "metadata": {
    "tags": []
   },
   "outputs": [],
   "source": [
    "#This a simple arithmetic expression to mutiply then add integers\n",
    "\n",
    "#This calculated Code Cell will not produce an output in my lab session same code will run in a JupyterLite session\n",
    "\n",
    "(3*4)+5"
   ]
  },
  {
   "cell_type": "code",
   "execution_count": null,
   "id": "d4a95c1d-f217-4f93-9156-c6beca342521",
   "metadata": {
    "tags": []
   },
   "outputs": [],
   "source": [
    "#This will convert 200 minutes to hours by diving by 60\n",
    "\n",
    "#This calculated Code Cell will not produce an output in my lab session same code will run in a JupyterLite session\n",
    "\n",
    "200/60"
   ]
  },
  {
   "cell_type": "markdown",
   "id": "596c90c2-a688-4b88-bb92-2aab72f19a14",
   "metadata": {},
   "source": [
    "## Author\n",
    "Kyle"
   ]
  },
  {
   "cell_type": "code",
   "execution_count": null,
   "id": "01006736-6938-4458-8895-56312fcb4574",
   "metadata": {},
   "outputs": [],
   "source": []
  }
 ],
 "metadata": {
  "kernelspec": {
   "display_name": "Python",
   "language": "python",
   "name": "conda-env-python-py"
  },
  "language_info": {
   "name": ""
  }
 },
 "nbformat": 4,
 "nbformat_minor": 5
}
